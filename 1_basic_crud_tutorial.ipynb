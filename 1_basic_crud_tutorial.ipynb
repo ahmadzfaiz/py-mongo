{
 "cells": [
  {
   "cell_type": "code",
   "execution_count": 1,
   "metadata": {},
   "outputs": [],
   "source": [
    "from pymongo import MongoClient\n",
    "from pprint import pprint"
   ]
  },
  {
   "cell_type": "markdown",
   "metadata": {},
   "source": [
    "## Create MongoDB Connection"
   ]
  },
  {
   "cell_type": "code",
   "execution_count": 2,
   "metadata": {},
   "outputs": [
    {
     "data": {
      "text/plain": [
       "MongoClient(host=['localhost:27017'], document_class=dict, tz_aware=False, connect=True)"
      ]
     },
     "execution_count": 2,
     "metadata": {},
     "output_type": "execute_result"
    }
   ],
   "source": [
    "client = MongoClient(\"localhost\", 27017)\n",
    "\n",
    "client"
   ]
  },
  {
   "cell_type": "markdown",
   "metadata": {},
   "source": [
    "## Create Database and Document"
   ]
  },
  {
   "cell_type": "code",
   "execution_count": 3,
   "metadata": {},
   "outputs": [],
   "source": [
    "db = client.faiz_db\n",
    "people = db.people"
   ]
  },
  {
   "cell_type": "markdown",
   "metadata": {},
   "source": [
    "## Insert Data"
   ]
  },
  {
   "cell_type": "code",
   "execution_count": 4,
   "metadata": {},
   "outputs": [
    {
     "data": {
      "text/plain": [
       "InsertOneResult(ObjectId('67ab7e7a0124ed2f513e5630'), acknowledged=True)"
      ]
     },
     "execution_count": 4,
     "metadata": {},
     "output_type": "execute_result"
    }
   ],
   "source": [
    "people.insert_one({\"name\": \"Faiz\", \"age\": 29, \"sex\": \"male\"})"
   ]
  },
  {
   "cell_type": "code",
   "execution_count": 5,
   "metadata": {},
   "outputs": [
    {
     "data": {
      "text/plain": [
       "InsertOneResult(ObjectId('67ab7e7f0124ed2f513e5631'), acknowledged=True)"
      ]
     },
     "execution_count": 5,
     "metadata": {},
     "output_type": "execute_result"
    }
   ],
   "source": [
    "people.insert_one({\"name\": \"Lisa\", \"age\": 20, \"sex\": \"female\", \"hobby\": \"dance\"})"
   ]
  },
  {
   "cell_type": "code",
   "execution_count": 6,
   "metadata": {},
   "outputs": [
    {
     "data": {
      "text/plain": [
       "InsertOneResult(ObjectId('67ab7e810124ed2f513e5632'), acknowledged=True)"
      ]
     },
     "execution_count": 6,
     "metadata": {},
     "output_type": "execute_result"
    }
   ],
   "source": [
    "people.insert_one({\"name\": \"Luna\", \"age\": 25, \"sex\": \"female\", \"favorite_color\": \"blue\"})"
   ]
  },
  {
   "cell_type": "code",
   "execution_count": 7,
   "metadata": {},
   "outputs": [],
   "source": [
    "david = people.insert_one({\"name\": \"David\", \"age\": 35, \"sex\": \"male\", \"favorite_food\": \"pizza\"})"
   ]
  },
  {
   "cell_type": "code",
   "execution_count": 8,
   "metadata": {},
   "outputs": [
    {
     "data": {
      "text/plain": [
       "ObjectId('67ab7e860124ed2f513e5633')"
      ]
     },
     "execution_count": 8,
     "metadata": {},
     "output_type": "execute_result"
    }
   ],
   "source": [
    "david.inserted_id"
   ]
  },
  {
   "cell_type": "code",
   "execution_count": 9,
   "metadata": {},
   "outputs": [
    {
     "name": "stdout",
     "output_type": "stream",
     "text": [
      "{'_id': ObjectId('67ab7e7a0124ed2f513e5630'),\n",
      " 'age': 29,\n",
      " 'name': 'Faiz',\n",
      " 'sex': 'male'}\n",
      "{'_id': ObjectId('67ab7e7f0124ed2f513e5631'),\n",
      " 'age': 20,\n",
      " 'hobby': 'dance',\n",
      " 'name': 'Lisa',\n",
      " 'sex': 'female'}\n",
      "{'_id': ObjectId('67ab7e810124ed2f513e5632'),\n",
      " 'age': 25,\n",
      " 'favorite_color': 'blue',\n",
      " 'name': 'Luna',\n",
      " 'sex': 'female'}\n",
      "{'_id': ObjectId('67ab7e860124ed2f513e5633'),\n",
      " 'age': 35,\n",
      " 'favorite_food': 'pizza',\n",
      " 'name': 'David',\n",
      " 'sex': 'male'}\n"
     ]
    }
   ],
   "source": [
    "# Show data from database \"faiz_db\" table \"people\"\n",
    "for person in people.find():\n",
    "  pprint(person)"
   ]
  },
  {
   "cell_type": "code",
   "execution_count": 10,
   "metadata": {},
   "outputs": [
    {
     "data": {
      "text/plain": [
       "InsertManyResult([ObjectId('67ab7e930124ed2f513e5634'), ObjectId('67ab7e930124ed2f513e5635'), ObjectId('67ab7e930124ed2f513e5636')], acknowledged=True)"
      ]
     },
     "execution_count": 10,
     "metadata": {},
     "output_type": "execute_result"
    }
   ],
   "source": [
    "people.insert_many(\n",
    "  [\n",
    "    {\"name\": \"Bambang\", \"age\": 42, \"sex\": \"male\", \"favorite_food\": \"nasi goreng\"},\n",
    "    {\"name\": \"Adi\", \"age\": 32, \"sex\": \"male\", \"favorite_color\": \"yellow\"},\n",
    "    {\"name\": \"Elsa\", \"age\": 25, \"sex\": \"female\", \"hobby\": \"piano\"},\n",
    "  ]\n",
    ")"
   ]
  },
  {
   "cell_type": "code",
   "execution_count": 11,
   "metadata": {},
   "outputs": [
    {
     "name": "stdout",
     "output_type": "stream",
     "text": [
      "{'_id': ObjectId('67ab7e7a0124ed2f513e5630'),\n",
      " 'age': 29,\n",
      " 'name': 'Faiz',\n",
      " 'sex': 'male'}\n",
      "{'_id': ObjectId('67ab7e7f0124ed2f513e5631'),\n",
      " 'age': 20,\n",
      " 'hobby': 'dance',\n",
      " 'name': 'Lisa',\n",
      " 'sex': 'female'}\n",
      "{'_id': ObjectId('67ab7e810124ed2f513e5632'),\n",
      " 'age': 25,\n",
      " 'favorite_color': 'blue',\n",
      " 'name': 'Luna',\n",
      " 'sex': 'female'}\n",
      "{'_id': ObjectId('67ab7e860124ed2f513e5633'),\n",
      " 'age': 35,\n",
      " 'favorite_food': 'pizza',\n",
      " 'name': 'David',\n",
      " 'sex': 'male'}\n",
      "{'_id': ObjectId('67ab7e930124ed2f513e5634'),\n",
      " 'age': 42,\n",
      " 'favorite_food': 'nasi goreng',\n",
      " 'name': 'Bambang',\n",
      " 'sex': 'male'}\n",
      "{'_id': ObjectId('67ab7e930124ed2f513e5635'),\n",
      " 'age': 32,\n",
      " 'favorite_color': 'yellow',\n",
      " 'name': 'Adi',\n",
      " 'sex': 'male'}\n",
      "{'_id': ObjectId('67ab7e930124ed2f513e5636'),\n",
      " 'age': 25,\n",
      " 'hobby': 'piano',\n",
      " 'name': 'Elsa',\n",
      " 'sex': 'female'}\n"
     ]
    }
   ],
   "source": [
    "for person in people.find():\n",
    "  pprint(person)"
   ]
  },
  {
   "cell_type": "markdown",
   "metadata": {},
   "source": [
    "## Read Data"
   ]
  },
  {
   "cell_type": "code",
   "execution_count": 12,
   "metadata": {},
   "outputs": [
    {
     "name": "stdout",
     "output_type": "stream",
     "text": [
      "{'_id': ObjectId('67ab7e7f0124ed2f513e5631'),\n",
      " 'age': 20,\n",
      " 'hobby': 'dance',\n",
      " 'name': 'Lisa',\n",
      " 'sex': 'female'}\n"
     ]
    }
   ],
   "source": [
    "pprint(people.find_one({\"sex\": \"female\"}))"
   ]
  },
  {
   "cell_type": "code",
   "execution_count": 13,
   "metadata": {},
   "outputs": [
    {
     "name": "stdout",
     "output_type": "stream",
     "text": [
      "{'_id': ObjectId('67ab7e810124ed2f513e5632'),\n",
      " 'age': 25,\n",
      " 'favorite_color': 'blue',\n",
      " 'name': 'Luna',\n",
      " 'sex': 'female'}\n"
     ]
    }
   ],
   "source": [
    "pprint(people.find_one({\"sex\": \"female\", \"name\": \"Luna\"}))"
   ]
  },
  {
   "cell_type": "code",
   "execution_count": 14,
   "metadata": {},
   "outputs": [
    {
     "name": "stdout",
     "output_type": "stream",
     "text": [
      "[{'_id': ObjectId('67ab7e7f0124ed2f513e5631'),\n",
      "  'age': 20,\n",
      "  'hobby': 'dance',\n",
      "  'name': 'Lisa',\n",
      "  'sex': 'female'},\n",
      " {'_id': ObjectId('67ab7e810124ed2f513e5632'),\n",
      "  'age': 25,\n",
      "  'favorite_color': 'blue',\n",
      "  'name': 'Luna',\n",
      "  'sex': 'female'},\n",
      " {'_id': ObjectId('67ab7e930124ed2f513e5636'),\n",
      "  'age': 25,\n",
      "  'hobby': 'piano',\n",
      "  'name': 'Elsa',\n",
      "  'sex': 'female'}]\n"
     ]
    }
   ],
   "source": [
    "pprint([p for p in people.find({\"sex\": \"female\"})])"
   ]
  },
  {
   "cell_type": "code",
   "execution_count": 15,
   "metadata": {},
   "outputs": [
    {
     "name": "stdout",
     "output_type": "stream",
     "text": [
      "{'_id': ObjectId('67ab7e860124ed2f513e5633'),\n",
      " 'age': 35,\n",
      " 'favorite_food': 'pizza',\n",
      " 'name': 'David',\n",
      " 'sex': 'male'}\n"
     ]
    }
   ],
   "source": [
    "pprint(people.find_one({\"_id\": david.inserted_id}))"
   ]
  },
  {
   "cell_type": "code",
   "execution_count": 16,
   "metadata": {},
   "outputs": [],
   "source": [
    "from bson.objectid import ObjectId"
   ]
  },
  {
   "cell_type": "code",
   "execution_count": 18,
   "metadata": {},
   "outputs": [
    {
     "name": "stdout",
     "output_type": "stream",
     "text": [
      "{'_id': ObjectId('67ab7e7f0124ed2f513e5631'),\n",
      " 'age': 20,\n",
      " 'hobby': 'dance',\n",
      " 'name': 'Lisa',\n",
      " 'sex': 'female'}\n"
     ]
    }
   ],
   "source": [
    "pprint(people.find_one({\"_id\": ObjectId(\"67ab7e7f0124ed2f513e5631\")}))"
   ]
  },
  {
   "cell_type": "code",
   "execution_count": 19,
   "metadata": {},
   "outputs": [
    {
     "name": "stdout",
     "output_type": "stream",
     "text": [
      "[{'_id': ObjectId('67ab7e7a0124ed2f513e5630'),\n",
      "  'age': 29,\n",
      "  'name': 'Faiz',\n",
      "  'sex': 'male'},\n",
      " {'_id': ObjectId('67ab7e7f0124ed2f513e5631'),\n",
      "  'age': 20,\n",
      "  'hobby': 'dance',\n",
      "  'name': 'Lisa',\n",
      "  'sex': 'female'},\n",
      " {'_id': ObjectId('67ab7e810124ed2f513e5632'),\n",
      "  'age': 25,\n",
      "  'favorite_color': 'blue',\n",
      "  'name': 'Luna',\n",
      "  'sex': 'female'},\n",
      " {'_id': ObjectId('67ab7e930124ed2f513e5636'),\n",
      "  'age': 25,\n",
      "  'hobby': 'piano',\n",
      "  'name': 'Elsa',\n",
      "  'sex': 'female'}]\n"
     ]
    }
   ],
   "source": [
    "pprint([p for p in people.find({\"age\": {\"$lt\": 30}})])"
   ]
  },
  {
   "cell_type": "code",
   "execution_count": 20,
   "metadata": {},
   "outputs": [
    {
     "name": "stdout",
     "output_type": "stream",
     "text": [
      "[{'_id': ObjectId('67ab7e930124ed2f513e5636'),\n",
      "  'age': 25,\n",
      "  'hobby': 'piano',\n",
      "  'name': 'Elsa',\n",
      "  'sex': 'female'},\n",
      " {'_id': ObjectId('67ab7e7a0124ed2f513e5630'),\n",
      "  'age': 29,\n",
      "  'name': 'Faiz',\n",
      "  'sex': 'male'},\n",
      " {'_id': ObjectId('67ab7e7f0124ed2f513e5631'),\n",
      "  'age': 20,\n",
      "  'hobby': 'dance',\n",
      "  'name': 'Lisa',\n",
      "  'sex': 'female'},\n",
      " {'_id': ObjectId('67ab7e810124ed2f513e5632'),\n",
      "  'age': 25,\n",
      "  'favorite_color': 'blue',\n",
      "  'name': 'Luna',\n",
      "  'sex': 'female'}]\n"
     ]
    }
   ],
   "source": [
    "# Sort ascending\n",
    "pprint([p for p in people.find({\"age\": {\"$lt\": 30}}).sort({\"name\": 1})])"
   ]
  },
  {
   "cell_type": "code",
   "execution_count": 21,
   "metadata": {},
   "outputs": [
    {
     "name": "stdout",
     "output_type": "stream",
     "text": [
      "[{'_id': ObjectId('67ab7e810124ed2f513e5632'),\n",
      "  'age': 25,\n",
      "  'favorite_color': 'blue',\n",
      "  'name': 'Luna',\n",
      "  'sex': 'female'},\n",
      " {'_id': ObjectId('67ab7e7f0124ed2f513e5631'),\n",
      "  'age': 20,\n",
      "  'hobby': 'dance',\n",
      "  'name': 'Lisa',\n",
      "  'sex': 'female'},\n",
      " {'_id': ObjectId('67ab7e7a0124ed2f513e5630'),\n",
      "  'age': 29,\n",
      "  'name': 'Faiz',\n",
      "  'sex': 'male'},\n",
      " {'_id': ObjectId('67ab7e930124ed2f513e5636'),\n",
      "  'age': 25,\n",
      "  'hobby': 'piano',\n",
      "  'name': 'Elsa',\n",
      "  'sex': 'female'}]\n"
     ]
    }
   ],
   "source": [
    "# Sort descending\n",
    "pprint([p for p in people.find({\"age\": {\"$lt\": 30}}).sort({\"name\": -1})])"
   ]
  },
  {
   "cell_type": "code",
   "execution_count": 22,
   "metadata": {},
   "outputs": [
    {
     "name": "stdout",
     "output_type": "stream",
     "text": [
      "[{'_id': ObjectId('67ab7e7a0124ed2f513e5630'),\n",
      "  'age': 29,\n",
      "  'name': 'Faiz',\n",
      "  'sex': 'male'},\n",
      " {'_id': ObjectId('67ab7e7f0124ed2f513e5631'),\n",
      "  'age': 20,\n",
      "  'hobby': 'dance',\n",
      "  'name': 'Lisa',\n",
      "  'sex': 'female'}]\n"
     ]
    }
   ],
   "source": [
    "# Limiting data\n",
    "pprint([p for p in people.find({\"age\": {\"$lt\": 30}}).limit(2)])"
   ]
  },
  {
   "cell_type": "code",
   "execution_count": 23,
   "metadata": {},
   "outputs": [
    {
     "name": "stdout",
     "output_type": "stream",
     "text": [
      "3\n"
     ]
    }
   ],
   "source": [
    "print(people.count_documents({\"sex\": \"female\"}))"
   ]
  },
  {
   "cell_type": "code",
   "execution_count": 24,
   "metadata": {},
   "outputs": [],
   "source": [
    "query = {\n",
    "  \"$and\": [\n",
    "    {\"age\": {\"$gte\": 27}},\n",
    "    {\"age\": {\"$lte\": 33}},\n",
    "  ]\n",
    "}"
   ]
  },
  {
   "cell_type": "code",
   "execution_count": 25,
   "metadata": {},
   "outputs": [
    {
     "data": {
      "text/plain": [
       "<pymongo.synchronous.cursor.Cursor at 0x1086b7410>"
      ]
     },
     "execution_count": 25,
     "metadata": {},
     "output_type": "execute_result"
    }
   ],
   "source": [
    "data = people.find(query)\n",
    "data"
   ]
  },
  {
   "cell_type": "code",
   "execution_count": 26,
   "metadata": {},
   "outputs": [
    {
     "name": "stdout",
     "output_type": "stream",
     "text": [
      "[{'_id': ObjectId('67ab7e7a0124ed2f513e5630'),\n",
      "  'age': 29,\n",
      "  'name': 'Faiz',\n",
      "  'sex': 'male'},\n",
      " {'_id': ObjectId('67ab7e930124ed2f513e5635'),\n",
      "  'age': 32,\n",
      "  'favorite_color': 'yellow',\n",
      "  'name': 'Adi',\n",
      "  'sex': 'male'}]\n"
     ]
    }
   ],
   "source": [
    "pprint([d for d in data])"
   ]
  },
  {
   "cell_type": "code",
   "execution_count": 27,
   "metadata": {},
   "outputs": [],
   "source": [
    "columns = {\"_id\": 0, \"name\": 1, \"hobby\": 1}"
   ]
  },
  {
   "cell_type": "code",
   "execution_count": 28,
   "metadata": {},
   "outputs": [
    {
     "data": {
      "text/plain": [
       "<pymongo.synchronous.cursor.Cursor at 0x1086b5850>"
      ]
     },
     "execution_count": 28,
     "metadata": {},
     "output_type": "execute_result"
    }
   ],
   "source": [
    "data = people.find({}, columns)\n",
    "data"
   ]
  },
  {
   "cell_type": "code",
   "execution_count": 29,
   "metadata": {},
   "outputs": [
    {
     "name": "stdout",
     "output_type": "stream",
     "text": [
      "[{'name': 'Faiz'},\n",
      " {'hobby': 'dance', 'name': 'Lisa'},\n",
      " {'name': 'Luna'},\n",
      " {'name': 'David'},\n",
      " {'name': 'Bambang'},\n",
      " {'name': 'Adi'},\n",
      " {'hobby': 'piano', 'name': 'Elsa'}]\n"
     ]
    }
   ],
   "source": [
    "pprint([d for d in data])"
   ]
  },
  {
   "cell_type": "markdown",
   "metadata": {},
   "source": [
    "## Update Data"
   ]
  },
  {
   "cell_type": "code",
   "execution_count": 32,
   "metadata": {},
   "outputs": [
    {
     "data": {
      "text/plain": [
       "UpdateResult({'n': 1, 'nModified': 1, 'ok': 1.0, 'updatedExisting': True}, acknowledged=True)"
      ]
     },
     "execution_count": 32,
     "metadata": {},
     "output_type": "execute_result"
    }
   ],
   "source": [
    "people.update_one({\"_id\": ObjectId(\"67ab7e930124ed2f513e5636\")}, {\"$set\": {\"age\": 33}})"
   ]
  },
  {
   "cell_type": "code",
   "execution_count": 33,
   "metadata": {},
   "outputs": [
    {
     "name": "stdout",
     "output_type": "stream",
     "text": [
      "[{'_id': ObjectId('67ab7e7a0124ed2f513e5630'),\n",
      "  'age': 29,\n",
      "  'name': 'Faiz',\n",
      "  'sex': 'male'},\n",
      " {'_id': ObjectId('67ab7e7f0124ed2f513e5631'),\n",
      "  'age': 20,\n",
      "  'hobby': 'dance',\n",
      "  'name': 'Lisa',\n",
      "  'sex': 'female'},\n",
      " {'_id': ObjectId('67ab7e810124ed2f513e5632'),\n",
      "  'age': 25,\n",
      "  'favorite_color': 'blue',\n",
      "  'name': 'Luna',\n",
      "  'sex': 'female'}]\n"
     ]
    }
   ],
   "source": [
    "pprint([p for p in people.find({\"age\": {\"$lt\": 30}})])"
   ]
  },
  {
   "cell_type": "code",
   "execution_count": 34,
   "metadata": {},
   "outputs": [
    {
     "data": {
      "text/plain": [
       "{'_id': ObjectId('67ab7e930124ed2f513e5636'),\n",
       " 'name': 'Elsa',\n",
       " 'age': 33,\n",
       " 'sex': 'female',\n",
       " 'hobby': 'piano'}"
      ]
     },
     "execution_count": 34,
     "metadata": {},
     "output_type": "execute_result"
    }
   ],
   "source": [
    "people.find_one({\"_id\": ObjectId(\"67ab7e930124ed2f513e5636\")})"
   ]
  },
  {
   "cell_type": "code",
   "execution_count": 35,
   "metadata": {},
   "outputs": [],
   "source": [
    "data_updates = {\n",
    "  \"$set\": {\"job\": \"teacher\"},\n",
    "  \"$inc\": {\"age\": 1},\n",
    "  \"$rename\": {\"hobby\": \"favorite_tool\"}\n",
    "}"
   ]
  },
  {
   "cell_type": "code",
   "execution_count": 36,
   "metadata": {},
   "outputs": [
    {
     "data": {
      "text/plain": [
       "UpdateResult({'n': 1, 'nModified': 1, 'ok': 1.0, 'updatedExisting': True}, acknowledged=True)"
      ]
     },
     "execution_count": 36,
     "metadata": {},
     "output_type": "execute_result"
    }
   ],
   "source": [
    "people.update_one({\"_id\": ObjectId(\"67ab7e930124ed2f513e5636\")}, data_updates)"
   ]
  },
  {
   "cell_type": "code",
   "execution_count": 37,
   "metadata": {},
   "outputs": [
    {
     "data": {
      "text/plain": [
       "{'_id': ObjectId('67ab7e930124ed2f513e5636'),\n",
       " 'name': 'Elsa',\n",
       " 'age': 34,\n",
       " 'sex': 'female',\n",
       " 'favorite_tool': 'piano',\n",
       " 'job': 'teacher'}"
      ]
     },
     "execution_count": 37,
     "metadata": {},
     "output_type": "execute_result"
    }
   ],
   "source": [
    "people.find_one({\"_id\": ObjectId(\"67ab7e930124ed2f513e5636\")})"
   ]
  },
  {
   "cell_type": "code",
   "execution_count": 38,
   "metadata": {},
   "outputs": [
    {
     "data": {
      "text/plain": [
       "UpdateResult({'n': 1, 'nModified': 1, 'ok': 1.0, 'updatedExisting': True}, acknowledged=True)"
      ]
     },
     "execution_count": 38,
     "metadata": {},
     "output_type": "execute_result"
    }
   ],
   "source": [
    "people.update_one({\"_id\": ObjectId(\"67ab7e930124ed2f513e5636\")}, {\"$unset\": {\"job\": \"\"}})"
   ]
  },
  {
   "cell_type": "code",
   "execution_count": 39,
   "metadata": {},
   "outputs": [
    {
     "data": {
      "text/plain": [
       "{'_id': ObjectId('67ab7e930124ed2f513e5636'),\n",
       " 'name': 'Elsa',\n",
       " 'age': 34,\n",
       " 'sex': 'female',\n",
       " 'favorite_tool': 'piano'}"
      ]
     },
     "execution_count": 39,
     "metadata": {},
     "output_type": "execute_result"
    }
   ],
   "source": [
    "people.find_one({\"_id\": ObjectId(\"67ab7e930124ed2f513e5636\")})"
   ]
  },
  {
   "cell_type": "code",
   "execution_count": 40,
   "metadata": {},
   "outputs": [
    {
     "name": "stdout",
     "output_type": "stream",
     "text": [
      "[{'_id': ObjectId('67ab7e7a0124ed2f513e5630'),\n",
      "  'age': 29,\n",
      "  'name': 'Faiz',\n",
      "  'sex': 'male'},\n",
      " {'_id': ObjectId('67ab7e860124ed2f513e5633'),\n",
      "  'age': 35,\n",
      "  'favorite_food': 'pizza',\n",
      "  'name': 'David',\n",
      "  'sex': 'male'},\n",
      " {'_id': ObjectId('67ab7e930124ed2f513e5634'),\n",
      "  'age': 42,\n",
      "  'favorite_food': 'nasi goreng',\n",
      "  'name': 'Bambang',\n",
      "  'sex': 'male'},\n",
      " {'_id': ObjectId('67ab7e930124ed2f513e5635'),\n",
      "  'age': 32,\n",
      "  'favorite_color': 'yellow',\n",
      "  'name': 'Adi',\n",
      "  'sex': 'male'}]\n"
     ]
    }
   ],
   "source": [
    "pprint([p for p in people.find({\"sex\": \"male\"})])"
   ]
  },
  {
   "cell_type": "code",
   "execution_count": 41,
   "metadata": {},
   "outputs": [],
   "source": [
    "data_updates = [\n",
    "  {\"$set\": {\"name\": {\"$toUpper\": \"$name\"}}}\n",
    "]"
   ]
  },
  {
   "cell_type": "code",
   "execution_count": 42,
   "metadata": {},
   "outputs": [
    {
     "data": {
      "text/plain": [
       "UpdateResult({'n': 4, 'nModified': 4, 'ok': 1.0, 'updatedExisting': True}, acknowledged=True)"
      ]
     },
     "execution_count": 42,
     "metadata": {},
     "output_type": "execute_result"
    }
   ],
   "source": [
    "people.update_many({\"sex\": \"male\"}, data_updates)"
   ]
  },
  {
   "cell_type": "code",
   "execution_count": 43,
   "metadata": {},
   "outputs": [
    {
     "name": "stdout",
     "output_type": "stream",
     "text": [
      "[{'_id': ObjectId('67ab7e7a0124ed2f513e5630'),\n",
      "  'age': 29,\n",
      "  'name': 'FAIZ',\n",
      "  'sex': 'male'},\n",
      " {'_id': ObjectId('67ab7e860124ed2f513e5633'),\n",
      "  'age': 35,\n",
      "  'favorite_food': 'pizza',\n",
      "  'name': 'DAVID',\n",
      "  'sex': 'male'},\n",
      " {'_id': ObjectId('67ab7e930124ed2f513e5634'),\n",
      "  'age': 42,\n",
      "  'favorite_food': 'nasi goreng',\n",
      "  'name': 'BAMBANG',\n",
      "  'sex': 'male'},\n",
      " {'_id': ObjectId('67ab7e930124ed2f513e5635'),\n",
      "  'age': 32,\n",
      "  'favorite_color': 'yellow',\n",
      "  'name': 'ADI',\n",
      "  'sex': 'male'}]\n"
     ]
    }
   ],
   "source": [
    "pprint([p for p in people.find({\"sex\": \"male\"})])"
   ]
  },
  {
   "cell_type": "code",
   "execution_count": 44,
   "metadata": {},
   "outputs": [
    {
     "data": {
      "text/plain": [
       "UpdateResult({'n': 1, 'nModified': 1, 'ok': 1.0, 'updatedExisting': True}, acknowledged=True)"
      ]
     },
     "execution_count": 44,
     "metadata": {},
     "output_type": "execute_result"
    }
   ],
   "source": [
    "people.replace_one(\n",
    "  {\"_id\": ObjectId('67ab7e860124ed2f513e5633')}, \n",
    "  {\n",
    "    \"name\": \"FARHAN\",\n",
    "    \"sex\": \"male\"\n",
    "  }\n",
    ")"
   ]
  },
  {
   "cell_type": "code",
   "execution_count": 45,
   "metadata": {},
   "outputs": [
    {
     "data": {
      "text/plain": [
       "{'_id': ObjectId('67ab7e860124ed2f513e5633'), 'name': 'FARHAN', 'sex': 'male'}"
      ]
     },
     "execution_count": 45,
     "metadata": {},
     "output_type": "execute_result"
    }
   ],
   "source": [
    "people.find_one({\"_id\": ObjectId('67ab7e860124ed2f513e5633')})"
   ]
  },
  {
   "cell_type": "markdown",
   "metadata": {},
   "source": [
    "## Delete Data"
   ]
  },
  {
   "cell_type": "code",
   "execution_count": 46,
   "metadata": {},
   "outputs": [
    {
     "data": {
      "text/plain": [
       "DeleteResult({'n': 1, 'ok': 1.0}, acknowledged=True)"
      ]
     },
     "execution_count": 46,
     "metadata": {},
     "output_type": "execute_result"
    }
   ],
   "source": [
    "people.delete_many({\"age\": {\"$lt\": 24}})"
   ]
  },
  {
   "cell_type": "code",
   "execution_count": 47,
   "metadata": {},
   "outputs": [
    {
     "name": "stdout",
     "output_type": "stream",
     "text": [
      "[{'_id': ObjectId('67ab7e7a0124ed2f513e5630'),\n",
      "  'age': 29,\n",
      "  'name': 'FAIZ',\n",
      "  'sex': 'male'},\n",
      " {'_id': ObjectId('67ab7e810124ed2f513e5632'),\n",
      "  'age': 25,\n",
      "  'favorite_color': 'blue',\n",
      "  'name': 'Luna',\n",
      "  'sex': 'female'}]\n"
     ]
    }
   ],
   "source": [
    "pprint([p for p in people.find({\"age\": {\"$lt\": 30}})])"
   ]
  },
  {
   "cell_type": "markdown",
   "metadata": {},
   "source": [
    "## Aggregate Data"
   ]
  },
  {
   "cell_type": "code",
   "execution_count": 48,
   "metadata": {},
   "outputs": [],
   "source": [
    "from bson.son import SON"
   ]
  },
  {
   "cell_type": "code",
   "execution_count": 49,
   "metadata": {},
   "outputs": [],
   "source": [
    "pipeline = [\n",
    "  {\n",
    "    \"$group\": {\n",
    "      \"_id\": \"$sex\",\n",
    "      \"average_age\": {\"$avg\": \"$age\"}\n",
    "    }\n",
    "  },\n",
    "  {\n",
    "    \"$sort\": SON([(\"average_age\", -1), (\"_id\", -1)])\n",
    "  }\n",
    "]"
   ]
  },
  {
   "cell_type": "code",
   "execution_count": 50,
   "metadata": {},
   "outputs": [
    {
     "data": {
      "text/plain": [
       "<pymongo.synchronous.command_cursor.CommandCursor at 0x1086b6bd0>"
      ]
     },
     "execution_count": 50,
     "metadata": {},
     "output_type": "execute_result"
    }
   ],
   "source": [
    "results = people.aggregate(pipeline)\n",
    "\n",
    "results"
   ]
  },
  {
   "cell_type": "code",
   "execution_count": 51,
   "metadata": {},
   "outputs": [
    {
     "name": "stdout",
     "output_type": "stream",
     "text": [
      "{'_id': 'male', 'average_age': 34.333333333333336}\n",
      "{'_id': 'female', 'average_age': 29.5}\n"
     ]
    }
   ],
   "source": [
    "for result in results:\n",
    "  print(result)"
   ]
  },
  {
   "cell_type": "code",
   "execution_count": null,
   "metadata": {},
   "outputs": [],
   "source": []
  }
 ],
 "metadata": {
  "kernelspec": {
   "display_name": "venv",
   "language": "python",
   "name": "python3"
  },
  "language_info": {
   "codemirror_mode": {
    "name": "ipython",
    "version": 3
   },
   "file_extension": ".py",
   "mimetype": "text/x-python",
   "name": "python",
   "nbconvert_exporter": "python",
   "pygments_lexer": "ipython3",
   "version": "3.12.6"
  }
 },
 "nbformat": 4,
 "nbformat_minor": 2
}
