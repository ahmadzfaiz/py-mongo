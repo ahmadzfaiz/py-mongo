{
 "cells": [
  {
   "cell_type": "code",
   "execution_count": 1,
   "metadata": {},
   "outputs": [],
   "source": [
    "from pymongo import MongoClient\n",
    "from pprint import pprint"
   ]
  },
  {
   "cell_type": "markdown",
   "metadata": {},
   "source": [
    "## Create MongoDB Connection"
   ]
  },
  {
   "cell_type": "code",
   "execution_count": 2,
   "metadata": {},
   "outputs": [
    {
     "data": {
      "text/plain": [
       "MongoClient(host=['localhost:27017'], document_class=dict, tz_aware=False, connect=True)"
      ]
     },
     "execution_count": 2,
     "metadata": {},
     "output_type": "execute_result"
    }
   ],
   "source": [
    "client = MongoClient(\"localhost\", 27017)\n",
    "\n",
    "client"
   ]
  },
  {
   "cell_type": "markdown",
   "metadata": {},
   "source": [
    "## Create Database and Document"
   ]
  },
  {
   "cell_type": "code",
   "execution_count": 3,
   "metadata": {},
   "outputs": [],
   "source": [
    "db = client.faiz_db\n",
    "people = db.people"
   ]
  },
  {
   "cell_type": "markdown",
   "metadata": {},
   "source": [
    "## Insert Data"
   ]
  },
  {
   "cell_type": "code",
   "execution_count": 4,
   "metadata": {},
   "outputs": [
    {
     "data": {
      "text/plain": [
       "InsertOneResult(ObjectId('67aa38275aed9a9f24192e5a'), acknowledged=True)"
      ]
     },
     "execution_count": 4,
     "metadata": {},
     "output_type": "execute_result"
    }
   ],
   "source": [
    "people.insert_one({\"name\": \"Faiz\", \"age\": 29, \"sex\": \"male\"})"
   ]
  },
  {
   "cell_type": "code",
   "execution_count": 37,
   "metadata": {},
   "outputs": [
    {
     "data": {
      "text/plain": [
       "InsertOneResult(ObjectId('67aa3bc45aed9a9f24192e61'), acknowledged=True)"
      ]
     },
     "execution_count": 37,
     "metadata": {},
     "output_type": "execute_result"
    }
   ],
   "source": [
    "people.insert_one({\"name\": \"Lisa\", \"age\": 20, \"sex\": \"female\", \"hobby\": \"dance\"})"
   ]
  },
  {
   "cell_type": "code",
   "execution_count": 6,
   "metadata": {},
   "outputs": [
    {
     "data": {
      "text/plain": [
       "InsertOneResult(ObjectId('67aa382b5aed9a9f24192e5c'), acknowledged=True)"
      ]
     },
     "execution_count": 6,
     "metadata": {},
     "output_type": "execute_result"
    }
   ],
   "source": [
    "people.insert_one({\"name\": \"Luna\", \"age\": 25, \"sex\": \"female\", \"favorite_color\": \"blue\"})"
   ]
  },
  {
   "cell_type": "code",
   "execution_count": 7,
   "metadata": {},
   "outputs": [],
   "source": [
    "david = people.insert_one({\"name\": \"David\", \"age\": 35, \"sex\": \"male\", \"favorite_food\": \"pizza\"})"
   ]
  },
  {
   "cell_type": "code",
   "execution_count": 8,
   "metadata": {},
   "outputs": [
    {
     "data": {
      "text/plain": [
       "ObjectId('67aa382d5aed9a9f24192e5d')"
      ]
     },
     "execution_count": 8,
     "metadata": {},
     "output_type": "execute_result"
    }
   ],
   "source": [
    "david.inserted_id"
   ]
  },
  {
   "cell_type": "code",
   "execution_count": 9,
   "metadata": {},
   "outputs": [
    {
     "name": "stdout",
     "output_type": "stream",
     "text": [
      "{'_id': ObjectId('67aa38275aed9a9f24192e5a'),\n",
      " 'age': 29,\n",
      " 'name': 'Faiz',\n",
      " 'sex': 'male'}\n",
      "{'_id': ObjectId('67aa38295aed9a9f24192e5b'),\n",
      " 'age': 20,\n",
      " 'hobby': 'dance',\n",
      " 'name': 'Lisa',\n",
      " 'sex': 'female'}\n",
      "{'_id': ObjectId('67aa382b5aed9a9f24192e5c'),\n",
      " 'age': 25,\n",
      " 'favorite_color': 'blue',\n",
      " 'name': 'Luna',\n",
      " 'sex': 'female'}\n",
      "{'_id': ObjectId('67aa382d5aed9a9f24192e5d'),\n",
      " 'age': 35,\n",
      " 'favorite_food': 'pizza',\n",
      " 'name': 'David',\n",
      " 'sex': 'male'}\n"
     ]
    }
   ],
   "source": [
    "# Show data from database \"faiz_db\" table \"people\"\n",
    "for person in people.find():\n",
    "  pprint(person)"
   ]
  },
  {
   "cell_type": "code",
   "execution_count": 10,
   "metadata": {},
   "outputs": [
    {
     "data": {
      "text/plain": [
       "InsertManyResult([ObjectId('67aa38415aed9a9f24192e5e'), ObjectId('67aa38415aed9a9f24192e5f'), ObjectId('67aa38415aed9a9f24192e60')], acknowledged=True)"
      ]
     },
     "execution_count": 10,
     "metadata": {},
     "output_type": "execute_result"
    }
   ],
   "source": [
    "people.insert_many(\n",
    "  [\n",
    "    {\"name\": \"Bambang\", \"age\": 42, \"sex\": \"male\", \"favorite_food\": \"nasi goreng\"},\n",
    "    {\"name\": \"Adi\", \"age\": 32, \"sex\": \"male\", \"favorite_color\": \"yellow\"},\n",
    "    {\"name\": \"Elsa\", \"age\": 25, \"sex\": \"female\", \"hobby\": \"piano\"},\n",
    "  ]\n",
    ")"
   ]
  },
  {
   "cell_type": "code",
   "execution_count": 11,
   "metadata": {},
   "outputs": [
    {
     "name": "stdout",
     "output_type": "stream",
     "text": [
      "{'_id': ObjectId('67aa38275aed9a9f24192e5a'),\n",
      " 'age': 29,\n",
      " 'name': 'Faiz',\n",
      " 'sex': 'male'}\n",
      "{'_id': ObjectId('67aa38295aed9a9f24192e5b'),\n",
      " 'age': 20,\n",
      " 'hobby': 'dance',\n",
      " 'name': 'Lisa',\n",
      " 'sex': 'female'}\n",
      "{'_id': ObjectId('67aa382b5aed9a9f24192e5c'),\n",
      " 'age': 25,\n",
      " 'favorite_color': 'blue',\n",
      " 'name': 'Luna',\n",
      " 'sex': 'female'}\n",
      "{'_id': ObjectId('67aa382d5aed9a9f24192e5d'),\n",
      " 'age': 35,\n",
      " 'favorite_food': 'pizza',\n",
      " 'name': 'David',\n",
      " 'sex': 'male'}\n",
      "{'_id': ObjectId('67aa38415aed9a9f24192e5e'),\n",
      " 'age': 42,\n",
      " 'favorite_food': 'nasi goreng',\n",
      " 'name': 'Bambang',\n",
      " 'sex': 'male'}\n",
      "{'_id': ObjectId('67aa38415aed9a9f24192e5f'),\n",
      " 'age': 32,\n",
      " 'favorite_color': 'yellow',\n",
      " 'name': 'Adi',\n",
      " 'sex': 'male'}\n",
      "{'_id': ObjectId('67aa38415aed9a9f24192e60'),\n",
      " 'age': 25,\n",
      " 'hobby': 'piano',\n",
      " 'name': 'Elsa',\n",
      " 'sex': 'female'}\n"
     ]
    }
   ],
   "source": [
    "for person in people.find():\n",
    "  pprint(person)"
   ]
  },
  {
   "cell_type": "markdown",
   "metadata": {},
   "source": [
    "## Read Data"
   ]
  },
  {
   "cell_type": "code",
   "execution_count": 12,
   "metadata": {},
   "outputs": [
    {
     "name": "stdout",
     "output_type": "stream",
     "text": [
      "{'_id': ObjectId('67aa38295aed9a9f24192e5b'),\n",
      " 'age': 20,\n",
      " 'hobby': 'dance',\n",
      " 'name': 'Lisa',\n",
      " 'sex': 'female'}\n"
     ]
    }
   ],
   "source": [
    "pprint(people.find_one({\"sex\": \"female\"}))"
   ]
  },
  {
   "cell_type": "code",
   "execution_count": 35,
   "metadata": {},
   "outputs": [
    {
     "name": "stdout",
     "output_type": "stream",
     "text": [
      "{'_id': ObjectId('67aa382b5aed9a9f24192e5c'),\n",
      " 'age': 25,\n",
      " 'favorite_color': 'blue',\n",
      " 'name': 'Luna',\n",
      " 'sex': 'female'}\n"
     ]
    }
   ],
   "source": [
    "pprint(people.find_one({\"sex\": \"female\", \"name\": \"Luna\"}))"
   ]
  },
  {
   "cell_type": "code",
   "execution_count": 13,
   "metadata": {},
   "outputs": [
    {
     "name": "stdout",
     "output_type": "stream",
     "text": [
      "[{'_id': ObjectId('67aa38295aed9a9f24192e5b'),\n",
      "  'age': 20,\n",
      "  'hobby': 'dance',\n",
      "  'name': 'Lisa',\n",
      "  'sex': 'female'},\n",
      " {'_id': ObjectId('67aa382b5aed9a9f24192e5c'),\n",
      "  'age': 25,\n",
      "  'favorite_color': 'blue',\n",
      "  'name': 'Luna',\n",
      "  'sex': 'female'},\n",
      " {'_id': ObjectId('67aa38415aed9a9f24192e60'),\n",
      "  'age': 25,\n",
      "  'hobby': 'piano',\n",
      "  'name': 'Elsa',\n",
      "  'sex': 'female'}]\n"
     ]
    }
   ],
   "source": [
    "pprint([p for p in people.find({\"sex\": \"female\"})])"
   ]
  },
  {
   "cell_type": "code",
   "execution_count": 15,
   "metadata": {},
   "outputs": [
    {
     "name": "stdout",
     "output_type": "stream",
     "text": [
      "{'_id': ObjectId('67aa382d5aed9a9f24192e5d'),\n",
      " 'age': 35,\n",
      " 'favorite_food': 'pizza',\n",
      " 'name': 'David',\n",
      " 'sex': 'male'}\n"
     ]
    }
   ],
   "source": [
    "pprint(people.find_one({\"_id\": david.inserted_id}))"
   ]
  },
  {
   "cell_type": "code",
   "execution_count": 16,
   "metadata": {},
   "outputs": [],
   "source": [
    "from bson.objectid import ObjectId"
   ]
  },
  {
   "cell_type": "code",
   "execution_count": 19,
   "metadata": {},
   "outputs": [
    {
     "name": "stdout",
     "output_type": "stream",
     "text": [
      "{'_id': ObjectId('67aa38415aed9a9f24192e60'),\n",
      " 'age': 25,\n",
      " 'hobby': 'piano',\n",
      " 'name': 'Elsa',\n",
      " 'sex': 'female'}\n"
     ]
    }
   ],
   "source": [
    "pprint(people.find_one({\"_id\": ObjectId(\"67aa38415aed9a9f24192e60\")}))"
   ]
  },
  {
   "cell_type": "code",
   "execution_count": 20,
   "metadata": {},
   "outputs": [
    {
     "name": "stdout",
     "output_type": "stream",
     "text": [
      "[{'_id': ObjectId('67aa38275aed9a9f24192e5a'),\n",
      "  'age': 29,\n",
      "  'name': 'Faiz',\n",
      "  'sex': 'male'},\n",
      " {'_id': ObjectId('67aa38295aed9a9f24192e5b'),\n",
      "  'age': 20,\n",
      "  'hobby': 'dance',\n",
      "  'name': 'Lisa',\n",
      "  'sex': 'female'},\n",
      " {'_id': ObjectId('67aa382b5aed9a9f24192e5c'),\n",
      "  'age': 25,\n",
      "  'favorite_color': 'blue',\n",
      "  'name': 'Luna',\n",
      "  'sex': 'female'},\n",
      " {'_id': ObjectId('67aa38415aed9a9f24192e60'),\n",
      "  'age': 25,\n",
      "  'hobby': 'piano',\n",
      "  'name': 'Elsa',\n",
      "  'sex': 'female'}]\n"
     ]
    }
   ],
   "source": [
    "pprint([p for p in people.find({\"age\": {\"$lt\": 30}})])"
   ]
  },
  {
   "cell_type": "code",
   "execution_count": 21,
   "metadata": {},
   "outputs": [
    {
     "name": "stdout",
     "output_type": "stream",
     "text": [
      "3\n"
     ]
    }
   ],
   "source": [
    "print(people.count_documents({\"sex\": \"female\"}))"
   ]
  },
  {
   "cell_type": "code",
   "execution_count": 31,
   "metadata": {},
   "outputs": [],
   "source": [
    "query = {\n",
    "  \"$and\": [\n",
    "    {\"age\": {\"$gte\": 27}},\n",
    "    {\"age\": {\"$lte\": 33}},\n",
    "  ]\n",
    "}"
   ]
  },
  {
   "cell_type": "code",
   "execution_count": 33,
   "metadata": {},
   "outputs": [
    {
     "data": {
      "text/plain": [
       "<pymongo.synchronous.cursor.Cursor at 0x121f826c0>"
      ]
     },
     "execution_count": 33,
     "metadata": {},
     "output_type": "execute_result"
    }
   ],
   "source": [
    "data = people.find(query)\n",
    "data"
   ]
  },
  {
   "cell_type": "code",
   "execution_count": 34,
   "metadata": {},
   "outputs": [
    {
     "name": "stdout",
     "output_type": "stream",
     "text": [
      "[{'_id': ObjectId('67aa38275aed9a9f24192e5a'),\n",
      "  'age': 29,\n",
      "  'name': 'Faiz',\n",
      "  'sex': 'male'},\n",
      " {'_id': ObjectId('67aa38415aed9a9f24192e5f'),\n",
      "  'age': 32,\n",
      "  'favorite_color': 'yellow',\n",
      "  'name': 'Adi',\n",
      "  'sex': 'male'},\n",
      " {'_id': ObjectId('67aa38415aed9a9f24192e60'),\n",
      "  'age': 33,\n",
      "  'hobby': 'piano',\n",
      "  'name': 'Elsa',\n",
      "  'sex': 'female'}]\n"
     ]
    }
   ],
   "source": [
    "pprint([d for d in data])"
   ]
  },
  {
   "cell_type": "code",
   "execution_count": 36,
   "metadata": {},
   "outputs": [],
   "source": [
    "columns = {\"_id\": 0, \"name\": 1, \"hobby\": 1}"
   ]
  },
  {
   "cell_type": "code",
   "execution_count": 38,
   "metadata": {},
   "outputs": [
    {
     "data": {
      "text/plain": [
       "<pymongo.synchronous.cursor.Cursor at 0x121f7fda0>"
      ]
     },
     "execution_count": 38,
     "metadata": {},
     "output_type": "execute_result"
    }
   ],
   "source": [
    "data = people.find({}, columns)\n",
    "data"
   ]
  },
  {
   "cell_type": "code",
   "execution_count": 39,
   "metadata": {},
   "outputs": [
    {
     "name": "stdout",
     "output_type": "stream",
     "text": [
      "[{'name': 'Faiz'},\n",
      " {'name': 'Luna'},\n",
      " {'name': 'David'},\n",
      " {'name': 'Bambang'},\n",
      " {'name': 'Adi'},\n",
      " {'hobby': 'piano', 'name': 'Elsa'},\n",
      " {'hobby': 'dance', 'name': 'Lisa'}]\n"
     ]
    }
   ],
   "source": [
    "pprint([d for d in data])"
   ]
  },
  {
   "cell_type": "markdown",
   "metadata": {},
   "source": [
    "## Update Data"
   ]
  },
  {
   "cell_type": "code",
   "execution_count": 22,
   "metadata": {},
   "outputs": [
    {
     "data": {
      "text/plain": [
       "UpdateResult({'n': 1, 'nModified': 1, 'ok': 1.0, 'updatedExisting': True}, acknowledged=True)"
      ]
     },
     "execution_count": 22,
     "metadata": {},
     "output_type": "execute_result"
    }
   ],
   "source": [
    "people.update_one({\"_id\": ObjectId(\"67aa38415aed9a9f24192e60\")}, {\"$set\": {\"age\": 33}})"
   ]
  },
  {
   "cell_type": "code",
   "execution_count": 23,
   "metadata": {},
   "outputs": [
    {
     "name": "stdout",
     "output_type": "stream",
     "text": [
      "[{'_id': ObjectId('67aa38275aed9a9f24192e5a'),\n",
      "  'age': 29,\n",
      "  'name': 'Faiz',\n",
      "  'sex': 'male'},\n",
      " {'_id': ObjectId('67aa38295aed9a9f24192e5b'),\n",
      "  'age': 20,\n",
      "  'hobby': 'dance',\n",
      "  'name': 'Lisa',\n",
      "  'sex': 'female'},\n",
      " {'_id': ObjectId('67aa382b5aed9a9f24192e5c'),\n",
      "  'age': 25,\n",
      "  'favorite_color': 'blue',\n",
      "  'name': 'Luna',\n",
      "  'sex': 'female'}]\n"
     ]
    }
   ],
   "source": [
    "pprint([p for p in people.find({\"age\": {\"$lt\": 30}})])"
   ]
  },
  {
   "cell_type": "code",
   "execution_count": 41,
   "metadata": {},
   "outputs": [
    {
     "data": {
      "text/plain": [
       "{'_id': ObjectId('67aa38415aed9a9f24192e60'),\n",
       " 'name': 'Elsa',\n",
       " 'age': 33,\n",
       " 'sex': 'female',\n",
       " 'hobby': 'piano'}"
      ]
     },
     "execution_count": 41,
     "metadata": {},
     "output_type": "execute_result"
    }
   ],
   "source": [
    "people.find_one({\"_id\": ObjectId(\"67aa38415aed9a9f24192e60\")})"
   ]
  },
  {
   "cell_type": "code",
   "execution_count": 42,
   "metadata": {},
   "outputs": [],
   "source": [
    "data_updates = {\n",
    "  \"$set\": {\"job\": \"teacher\"},\n",
    "  \"$inc\": {\"age\": 1},\n",
    "  \"$rename\": {\"hobby\": \"favorite_tool\"}\n",
    "}"
   ]
  },
  {
   "cell_type": "code",
   "execution_count": 43,
   "metadata": {},
   "outputs": [
    {
     "data": {
      "text/plain": [
       "UpdateResult({'n': 1, 'nModified': 1, 'ok': 1.0, 'updatedExisting': True}, acknowledged=True)"
      ]
     },
     "execution_count": 43,
     "metadata": {},
     "output_type": "execute_result"
    }
   ],
   "source": [
    "people.update_one({\"_id\": ObjectId(\"67aa38415aed9a9f24192e60\")}, data_updates)"
   ]
  },
  {
   "cell_type": "code",
   "execution_count": 44,
   "metadata": {},
   "outputs": [
    {
     "data": {
      "text/plain": [
       "{'_id': ObjectId('67aa38415aed9a9f24192e60'),\n",
       " 'name': 'Elsa',\n",
       " 'age': 34,\n",
       " 'sex': 'female',\n",
       " 'favorite_tool': 'piano',\n",
       " 'job': 'teacher'}"
      ]
     },
     "execution_count": 44,
     "metadata": {},
     "output_type": "execute_result"
    }
   ],
   "source": [
    "people.find_one({\"_id\": ObjectId(\"67aa38415aed9a9f24192e60\")})"
   ]
  },
  {
   "cell_type": "code",
   "execution_count": 45,
   "metadata": {},
   "outputs": [
    {
     "data": {
      "text/plain": [
       "UpdateResult({'n': 1, 'nModified': 1, 'ok': 1.0, 'updatedExisting': True}, acknowledged=True)"
      ]
     },
     "execution_count": 45,
     "metadata": {},
     "output_type": "execute_result"
    }
   ],
   "source": [
    "people.update_one({\"_id\": ObjectId(\"67aa38415aed9a9f24192e60\")}, {\"$unset\": {\"job\": \"\"}})"
   ]
  },
  {
   "cell_type": "code",
   "execution_count": 46,
   "metadata": {},
   "outputs": [
    {
     "data": {
      "text/plain": [
       "{'_id': ObjectId('67aa38415aed9a9f24192e60'),\n",
       " 'name': 'Elsa',\n",
       " 'age': 34,\n",
       " 'sex': 'female',\n",
       " 'favorite_tool': 'piano'}"
      ]
     },
     "execution_count": 46,
     "metadata": {},
     "output_type": "execute_result"
    }
   ],
   "source": [
    "people.find_one({\"_id\": ObjectId(\"67aa38415aed9a9f24192e60\")})"
   ]
  },
  {
   "cell_type": "code",
   "execution_count": 61,
   "metadata": {},
   "outputs": [
    {
     "name": "stdout",
     "output_type": "stream",
     "text": [
      "[{'_id': ObjectId('67aa38275aed9a9f24192e5a'),\n",
      "  'age': 29,\n",
      "  'name': 'Faiz',\n",
      "  'sex': 'male'},\n",
      " {'_id': ObjectId('67aa382d5aed9a9f24192e5d'),\n",
      "  'age': 35,\n",
      "  'favorite_food': 'pizza',\n",
      "  'name': 'David',\n",
      "  'sex': 'male'},\n",
      " {'_id': ObjectId('67aa38415aed9a9f24192e5e'),\n",
      "  'age': 42,\n",
      "  'favorite_food': 'nasi goreng',\n",
      "  'name': 'Bambang',\n",
      "  'sex': 'male'},\n",
      " {'_id': ObjectId('67aa38415aed9a9f24192e5f'),\n",
      "  'age': 32,\n",
      "  'favorite_color': 'yellow',\n",
      "  'name': 'Adi',\n",
      "  'sex': 'male'}]\n"
     ]
    }
   ],
   "source": [
    "pprint([p for p in people.find({\"sex\": \"male\"})])"
   ]
  },
  {
   "cell_type": "code",
   "execution_count": 63,
   "metadata": {},
   "outputs": [],
   "source": [
    "data_updates = [\n",
    "  {\"$set\": {\"name\": {\"$toUpper\": \"$name\"}}}\n",
    "]"
   ]
  },
  {
   "cell_type": "code",
   "execution_count": 64,
   "metadata": {},
   "outputs": [
    {
     "data": {
      "text/plain": [
       "UpdateResult({'n': 4, 'nModified': 4, 'ok': 1.0, 'updatedExisting': True}, acknowledged=True)"
      ]
     },
     "execution_count": 64,
     "metadata": {},
     "output_type": "execute_result"
    }
   ],
   "source": [
    "people.update_many({\"sex\": \"male\"}, data_updates)"
   ]
  },
  {
   "cell_type": "code",
   "execution_count": 65,
   "metadata": {},
   "outputs": [
    {
     "name": "stdout",
     "output_type": "stream",
     "text": [
      "[{'_id': ObjectId('67aa38275aed9a9f24192e5a'),\n",
      "  'age': 29,\n",
      "  'name': 'FAIZ',\n",
      "  'sex': 'male'},\n",
      " {'_id': ObjectId('67aa382d5aed9a9f24192e5d'),\n",
      "  'age': 35,\n",
      "  'favorite_food': 'pizza',\n",
      "  'name': 'DAVID',\n",
      "  'sex': 'male'},\n",
      " {'_id': ObjectId('67aa38415aed9a9f24192e5e'),\n",
      "  'age': 42,\n",
      "  'favorite_food': 'nasi goreng',\n",
      "  'name': 'BAMBANG',\n",
      "  'sex': 'male'},\n",
      " {'_id': ObjectId('67aa38415aed9a9f24192e5f'),\n",
      "  'age': 32,\n",
      "  'favorite_color': 'yellow',\n",
      "  'name': 'ADI',\n",
      "  'sex': 'male'}]\n"
     ]
    }
   ],
   "source": [
    "pprint([p for p in people.find({\"sex\": \"male\"})])"
   ]
  },
  {
   "cell_type": "code",
   "execution_count": 69,
   "metadata": {},
   "outputs": [
    {
     "data": {
      "text/plain": [
       "UpdateResult({'n': 1, 'nModified': 1, 'ok': 1.0, 'updatedExisting': True}, acknowledged=True)"
      ]
     },
     "execution_count": 69,
     "metadata": {},
     "output_type": "execute_result"
    }
   ],
   "source": [
    "people.replace_one(\n",
    "  {\"_id\": ObjectId('67aa382d5aed9a9f24192e5d')}, \n",
    "  {\n",
    "    \"name\": \"FARHAN\",\n",
    "    \"sex\": \"male\"\n",
    "  }\n",
    ")"
   ]
  },
  {
   "cell_type": "code",
   "execution_count": 70,
   "metadata": {},
   "outputs": [
    {
     "data": {
      "text/plain": [
       "{'_id': ObjectId('67aa382d5aed9a9f24192e5d'), 'name': 'FARHAN', 'sex': 'male'}"
      ]
     },
     "execution_count": 70,
     "metadata": {},
     "output_type": "execute_result"
    }
   ],
   "source": [
    "people.find_one({\"_id\": ObjectId('67aa382d5aed9a9f24192e5d')})"
   ]
  },
  {
   "cell_type": "markdown",
   "metadata": {},
   "source": [
    "## Delete Data"
   ]
  },
  {
   "cell_type": "code",
   "execution_count": 40,
   "metadata": {},
   "outputs": [
    {
     "data": {
      "text/plain": [
       "DeleteResult({'n': 1, 'ok': 1.0}, acknowledged=True)"
      ]
     },
     "execution_count": 40,
     "metadata": {},
     "output_type": "execute_result"
    }
   ],
   "source": [
    "people.delete_many({\"age\": {\"$lt\": 24}})"
   ]
  },
  {
   "cell_type": "code",
   "execution_count": 25,
   "metadata": {},
   "outputs": [
    {
     "name": "stdout",
     "output_type": "stream",
     "text": [
      "[{'_id': ObjectId('67aa38275aed9a9f24192e5a'),\n",
      "  'age': 29,\n",
      "  'name': 'Faiz',\n",
      "  'sex': 'male'},\n",
      " {'_id': ObjectId('67aa382b5aed9a9f24192e5c'),\n",
      "  'age': 25,\n",
      "  'favorite_color': 'blue',\n",
      "  'name': 'Luna',\n",
      "  'sex': 'female'}]\n"
     ]
    }
   ],
   "source": [
    "pprint([p for p in people.find({\"age\": {\"$lt\": 30}})])"
   ]
  },
  {
   "cell_type": "markdown",
   "metadata": {},
   "source": [
    "## Aggregate Data"
   ]
  },
  {
   "cell_type": "code",
   "execution_count": 26,
   "metadata": {},
   "outputs": [],
   "source": [
    "from bson.son import SON"
   ]
  },
  {
   "cell_type": "code",
   "execution_count": 71,
   "metadata": {},
   "outputs": [],
   "source": [
    "pipeline = [\n",
    "  {\n",
    "    \"$group\": {\n",
    "      \"_id\": \"$sex\",\n",
    "      \"average_age\": {\"$avg\": \"$age\"}\n",
    "    }\n",
    "  },\n",
    "  {\n",
    "    \"$sort\": SON([(\"average_age\", -1), (\"_id\", -1)])\n",
    "  }\n",
    "]"
   ]
  },
  {
   "cell_type": "code",
   "execution_count": 72,
   "metadata": {},
   "outputs": [
    {
     "data": {
      "text/plain": [
       "<pymongo.synchronous.command_cursor.CommandCursor at 0x121e07f50>"
      ]
     },
     "execution_count": 72,
     "metadata": {},
     "output_type": "execute_result"
    }
   ],
   "source": [
    "results = people.aggregate(pipeline)\n",
    "\n",
    "results"
   ]
  },
  {
   "cell_type": "code",
   "execution_count": 73,
   "metadata": {},
   "outputs": [
    {
     "name": "stdout",
     "output_type": "stream",
     "text": [
      "{'_id': 'male', 'average_age': 34.333333333333336}\n",
      "{'_id': 'female', 'average_age': 29.5}\n"
     ]
    }
   ],
   "source": [
    "for result in results:\n",
    "  print(result)"
   ]
  },
  {
   "cell_type": "code",
   "execution_count": null,
   "metadata": {},
   "outputs": [],
   "source": []
  }
 ],
 "metadata": {
  "kernelspec": {
   "display_name": "py-env",
   "language": "python",
   "name": "python3"
  },
  "language_info": {
   "codemirror_mode": {
    "name": "ipython",
    "version": 3
   },
   "file_extension": ".py",
   "mimetype": "text/x-python",
   "name": "python",
   "nbconvert_exporter": "python",
   "pygments_lexer": "ipython3",
   "version": "3.12.6"
  }
 },
 "nbformat": 4,
 "nbformat_minor": 2
}
